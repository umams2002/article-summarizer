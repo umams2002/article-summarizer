{
 "cells": [
  {
   "cell_type": "markdown",
   "metadata": {},
   "source": [
    "# Web Mining and Applied NLP (44-620)\n",
    "\n",
    "## Final Project: Article Summarizer\n",
    "\n",
    "### Student Name: Uma M Subramanian\n",
    "### Repo link: https://github.com/umams2002/article-summarizer\n",
    "\n",
    "Perform the tasks described in the Markdown cells below.  When you have completed the assignment make sure your code cells have all been run (and have output beneath them) and ensure you have committed and pushed ALL of your changes to your assignment repository.\n",
    "\n",
    "You should bring in code from previous assignments to help you answer the questions below.\n",
    "\n",
    "Every question that requires you to write code will have a code cell underneath it; you may either write your entire solution in that cell or write it in a python file (`.py`), then import and run the appropriate code to answer the question."
   ]
  },
  {
   "cell_type": "markdown",
   "metadata": {},
   "source": [
    "## Task 0: Prerequisite"
   ]
  },
  {
   "cell_type": "code",
   "execution_count": 2,
   "metadata": {},
   "outputs": [
    {
     "name": "stdout",
     "output_type": "stream",
     "text": [
      "Package                   Version\n",
      "------------------------- --------\n",
      "annotated-types           0.5.0\n",
      "anyio                     3.7.1\n",
      "appdirs                   1.4.4\n",
      "argon2-cffi               23.1.0\n",
      "argon2-cffi-bindings      21.2.0\n",
      "arrow                     1.2.3\n",
      "asgiref                   3.7.2\n",
      "astroid                   2.15.6\n",
      "asttokens                 2.2.1\n",
      "async-lru                 2.0.4\n",
      "attrs                     23.1.0\n",
      "Babel                     2.12.1\n",
      "backcall                  0.2.0\n",
      "beautifulsoup4            4.12.2\n",
      "black                     23.9.1\n",
      "bleach                    6.0.0\n",
      "blis                      0.7.10\n",
      "bokeh                     3.2.0\n",
      "branca                    0.6.0\n",
      "build                     0.10.0\n",
      "catalogue                 2.0.9\n",
      "certifi                   2023.5.7\n",
      "cffi                      1.15.1\n",
      "charset-normalizer        3.2.0\n",
      "click                     8.1.4\n",
      "colorama                  0.4.6\n",
      "colorcet                  3.0.1\n",
      "comm                      0.1.3\n",
      "confection                0.1.1\n",
      "contextvars               2.4\n",
      "contourpy                 1.1.0\n",
      "cycler                    0.11.0\n",
      "cymem                     2.0.7\n",
      "debugpy                   1.6.7\n",
      "decorator                 5.1.1\n",
      "defusedxml                0.7.1\n",
      "dill                      0.3.7\n",
      "dodgy                     0.2.1\n",
      "dweepy                    0.3.0\n",
      "et-xmlfile                1.1.0\n",
      "executing                 1.2.0\n",
      "fastjsonschema            2.18.0\n",
      "flake8                    5.0.4\n",
      "flake8-polyfill           1.0.2\n",
      "fonttools                 4.41.0\n",
      "fqdn                      1.5.1\n",
      "geographiclib             2.0\n",
      "geopy                     2.4.0\n",
      "gitdb                     4.0.10\n",
      "GitPython                 3.1.32\n",
      "greenlet                  3.0.3\n",
      "h11                       0.14.0\n",
      "holoviews                 1.16.2\n",
      "htmltools                 0.2.1\n",
      "idna                      3.4\n",
      "imageio                   2.31.4\n",
      "immutables                0.19\n",
      "ipykernel                 6.25.2\n",
      "ipython                   8.14.0\n",
      "ipywidgets                8.0.7\n",
      "isoduration               20.11.0\n",
      "isort                     5.12.0\n",
      "jedi                      0.18.2\n",
      "Jinja2                    3.1.2\n",
      "joblib                    1.3.2\n",
      "json5                     0.9.14\n",
      "jsonpointer               2.4\n",
      "jsonschema                4.19.0\n",
      "jsonschema-specifications 2023.7.1\n",
      "jupyter_client            8.3.0\n",
      "jupyter_core              5.3.1\n",
      "jupyter-events            0.7.0\n",
      "jupyter-lsp               2.2.0\n",
      "jupyter_server            2.7.2\n",
      "jupyter_server_terminals  0.4.4\n",
      "jupyterlab                4.0.6\n",
      "jupyterlab-pygments       0.2.2\n",
      "jupyterlab_server         2.24.0\n",
      "jupyterlab-widgets        3.0.8\n",
      "kiwisolver                1.4.4\n",
      "langcodes                 3.3.0\n",
      "lazy-object-proxy         1.9.0\n",
      "linkify-it-py             2.0.2\n",
      "Markdown                  3.4.3\n",
      "markdown-it-py            3.0.0\n",
      "MarkupSafe                2.1.3\n",
      "matplotlib                3.8.0\n",
      "matplotlib-inline         0.1.6\n",
      "mccabe                    0.7.0\n",
      "mdit-py-plugins           0.4.0\n",
      "mdurl                     0.1.2\n",
      "mistune                   3.0.1\n",
      "mizani                    0.9.2\n",
      "murmurhash                1.0.9\n",
      "mypy-extensions           1.0.0\n",
      "nbclient                  0.7.4\n",
      "nbconvert                 7.7.4\n",
      "nbformat                  5.9.2\n",
      "nest-asyncio              1.5.6\n",
      "nltk                      3.8.1\n",
      "nodeenv                   1.8.0\n",
      "notebook_shim             0.2.3\n",
      "numpy                     1.26.0\n",
      "openpyxl                  3.1.2\n",
      "overrides                 7.4.0\n",
      "packaging                 23.1\n",
      "pandas                    2.1.1\n",
      "pandocfilters             1.5.0\n",
      "panel                     1.2.0\n",
      "param                     1.13.0\n",
      "parso                     0.8.3\n",
      "pathspec                  0.11.1\n",
      "pathy                     0.10.2\n",
      "patsy                     0.5.3\n",
      "pep8-naming               0.10.0\n",
      "pickleshare               0.7.5\n",
      "Pillow                    10.0.0\n",
      "pip                       23.2.1\n",
      "platformdirs              3.9.1\n",
      "plotly                    5.15.0\n",
      "plotnine                  0.12.1\n",
      "preshed                   3.0.8\n",
      "prometheus-client         0.17.1\n",
      "prompt-toolkit            3.0.39\n",
      "prospector                1.10.2\n",
      "psutil                    5.9.5\n",
      "pure-eval                 0.2.2\n",
      "pycodestyle               2.9.1\n",
      "pycparser                 2.21\n",
      "pyct                      0.5.0\n",
      "pydantic                  2.3.0\n",
      "pydantic_core             2.6.3\n",
      "pydocstyle                6.3.0\n",
      "pyflakes                  2.5.0\n",
      "Pygments                  2.15.1\n",
      "PyHyphen                  4.0.3\n",
      "PyJWT                     2.7.0\n",
      "pylint                    2.17.5\n",
      "pylint-celery             0.3\n",
      "pylint-django             2.5.3\n",
      "pylint-flask              0.6\n",
      "pylint-plugin-utils       0.7\n",
      "pyparsing                 3.0.9\n",
      "pyproject_hooks           1.0.0\n",
      "pyright                   1.1.317\n",
      "python-dateutil           2.8.2\n",
      "python-json-logger        2.0.7\n",
      "python-multipart          0.0.6\n",
      "pytz                      2023.3\n",
      "pyviz-comms               2.3.2\n",
      "pywin32                   306\n",
      "pywinpty                  2.0.11\n",
      "PyYAML                    6.0\n",
      "pyzmq                     25.1.0\n",
      "referencing               0.30.2\n",
      "regex                     2023.8.8\n",
      "requests                  2.31.0\n",
      "requirements-detector     1.2.2\n",
      "rfc3339-validator         0.1.4\n",
      "rfc3986-validator         0.1.1\n",
      "rpds-py                   0.9.2\n",
      "rsconnect-python          1.19.0\n",
      "ruff                      0.0.292\n",
      "scikit-learn              1.3.1\n",
      "scipy                     1.11.2\n",
      "seaborn                   0.12.2\n",
      "semver                    3.0.1\n",
      "Send2Trash                1.8.2\n",
      "setoptconf-tmp            0.3.1\n",
      "setuptools                68.1.2\n",
      "shiny                     0.4.0\n",
      "shinyswatch               0.2.4\n",
      "six                       1.16.0\n",
      "smart-open                6.3.0\n",
      "smmap                     5.0.0\n",
      "sniffio                   1.3.0\n",
      "snowballstemmer           2.2.0\n",
      "soupsieve                 2.4.1\n",
      "spacy                     3.6.1\n",
      "spacy-legacy              3.0.12\n",
      "spacy-loggers             1.0.4\n",
      "spacytextblob             4.0.0\n",
      "SQLAlchemy                2.0.25\n",
      "srsly                     2.4.7\n",
      "stack-data                0.6.2\n",
      "starlette                 0.30.0\n",
      "statsmodels               0.14.0\n",
      "tenacity                  8.2.2\n",
      "terminado                 0.17.1\n",
      "textatistic               0.0.1\n",
      "textblob                  0.15.3\n",
      "thinc                     8.1.12\n",
      "threadpoolctl             3.2.0\n",
      "tinycss2                  1.2.1\n",
      "toml                      0.10.2\n",
      "tomlkit                   0.12.1\n",
      "tornado                   6.3.2\n",
      "tqdm                      4.65.0\n",
      "traitlets                 5.9.0\n",
      "traittypes                0.2.1\n",
      "typer                     0.9.0\n",
      "typing_extensions         4.7.1\n",
      "tzdata                    2023.3\n",
      "uc-micro-py               1.0.2\n",
      "uri-template              1.3.0\n",
      "urllib3                   2.0.3\n",
      "uvicorn                   0.23.0\n",
      "voila                     0.5.4\n",
      "wasabi                    1.1.2\n",
      "watchfiles                0.19.0\n",
      "wcwidth                   0.2.6\n",
      "webcolors                 1.13\n",
      "webencodings              0.5.1\n",
      "websocket-client          1.6.2\n",
      "websockets                11.0.3\n",
      "wheel                     0.41.2\n",
      "widgetsnbextension        4.0.8\n",
      "wrapt                     1.15.0\n",
      "XStatic-bootswatch        3.3.7.0\n",
      "xyzservices               2023.7.0\n",
      "All prereqs installed.\n"
     ]
    },
    {
     "name": "stderr",
     "output_type": "stream",
     "text": [
      "\n",
      "[notice] A new release of pip is available: 23.2.1 -> 24.0\n",
      "[notice] To update, run: C:\\Users\\A2645055\\AppData\\Local\\Microsoft\\WindowsApps\\PythonSoftwareFoundation.Python.3.11_qbz5n2kfra8p0\\python.exe -m pip install --upgrade pip\n"
     ]
    }
   ],
   "source": [
    "from collections import Counter\n",
    "import pickle\n",
    "import requests\n",
    "import spacy\n",
    "from bs4 import BeautifulSoup\n",
    "import matplotlib.pyplot as plt\n",
    "\n",
    "!pip list\n",
    "\n",
    "print('All prereqs installed.')"
   ]
  },
  {
   "cell_type": "markdown",
   "metadata": {},
   "source": [
    "1. Find on the internet an article or blog post about a topic that interests you and you are able to get the text for using the technologies we have applied in the course.  Get the html for the article and store it in a file (which you must submit with your project)"
   ]
  },
  {
   "cell_type": "code",
   "execution_count": 9,
   "metadata": {},
   "outputs": [
    {
     "name": "stdout",
     "output_type": "stream",
     "text": [
      "<map object at 0x000001A32AB1EA10>\n"
     ]
    }
   ],
   "source": [
    "\n"
   ]
  },
  {
   "cell_type": "markdown",
   "metadata": {},
   "source": [
    "2. Read in your article's html source from the file you created in question 1 and do sentiment analysis on the article/post's text (use `.get_text()`).  Print the polarity score with an appropriate label.  Additionally print the number of sentences in the original article (with an appropriate label)"
   ]
  },
  {
   "cell_type": "code",
   "execution_count": null,
   "metadata": {},
   "outputs": [],
   "source": []
  },
  {
   "cell_type": "markdown",
   "metadata": {},
   "source": [
    "3. Load the article text into a trained `spaCy` pipeline, and determine the 5 most frequent tokens (converted to lower case).  Print the common tokens with an appropriate label.  Additionally, print the tokens their frequencies (with appropriate labels)"
   ]
  },
  {
   "cell_type": "code",
   "execution_count": null,
   "metadata": {},
   "outputs": [],
   "source": []
  },
  {
   "cell_type": "markdown",
   "metadata": {},
   "source": [
    "4. Load the article text into a trained `spaCy` pipeline, and determine the 5 most frequent lemmas (converted to lower case).  Print the common lemmas with an appropriate label.  Additionally, print the lemmas with their frequencies (with appropriate labels)."
   ]
  },
  {
   "cell_type": "code",
   "execution_count": null,
   "metadata": {},
   "outputs": [],
   "source": []
  },
  {
   "cell_type": "markdown",
   "metadata": {},
   "source": [
    "5. Make a list containing the scores (using tokens) of every sentence in the article, and plot a histogram with appropriate titles and axis labels of the scores. From your histogram, what seems to be the most common range of scores (put the answer in a comment after your code)?"
   ]
  },
  {
   "cell_type": "code",
   "execution_count": null,
   "metadata": {},
   "outputs": [],
   "source": []
  },
  {
   "cell_type": "markdown",
   "metadata": {},
   "source": [
    "6. Make a list containing the scores (using lemmas) of every sentence in the article, and plot a histogram with appropriate titles and axis labels of the scores.  From your histogram, what seems to be the most common range of scores (put the answer in a comment after your code)?"
   ]
  },
  {
   "cell_type": "code",
   "execution_count": null,
   "metadata": {},
   "outputs": [],
   "source": []
  },
  {
   "cell_type": "markdown",
   "metadata": {},
   "source": [
    "7. Using the histograms from questions 5 and 6, decide a \"cutoff\" score for tokens and lemmas such that fewer than half the sentences would have a score greater than the cutoff score.  Record the scores in this Markdown cell\n",
    "\n",
    "* Cutoff Score (tokens): \n",
    "* Cutoff Score (lemmas):\n",
    "\n",
    "Feel free to change these scores as you generate your summaries.  Ideally, we're shooting for at least 6 sentences for our summary, but don't want more than 10 (these numbers are rough estimates; they depend on the length of your article)."
   ]
  },
  {
   "cell_type": "markdown",
   "metadata": {},
   "source": [
    "8. Create a summary of the article by going through every sentence in the article and adding it to an (initially) empty list if its score (based on tokens) is greater than the cutoff score you identified in question 8.  If your loop variable is named `sent`, you may find it easier to add `sent.text.strip()` to your list of sentences.  Print the summary (I would cleanly generate the summary text by `join`ing the strings in your list together with a space (`' '.join(sentence_list)`)."
   ]
  },
  {
   "cell_type": "code",
   "execution_count": null,
   "metadata": {},
   "outputs": [],
   "source": []
  },
  {
   "cell_type": "markdown",
   "metadata": {},
   "source": [
    "9. Print the polarity score of your summary you generated with the token scores (with an appropriate label). Additionally, print the number of sentences in the summarized article."
   ]
  },
  {
   "cell_type": "code",
   "execution_count": null,
   "metadata": {},
   "outputs": [],
   "source": []
  },
  {
   "cell_type": "markdown",
   "metadata": {},
   "source": [
    "10. Create a summary of the article by going through every sentence in the article and adding it to an (initially) empty list if its score (based on lemmas) is greater than the cutoff score you identified in question 8.  If your loop variable is named `sent`, you may find it easier to add `sent.text.strip()` to your list of sentences.  Print the summary (I would cleanly generate the summary text by `join`ing the strings in your list together with a space (`' '.join(sentence_list)`)."
   ]
  },
  {
   "cell_type": "code",
   "execution_count": null,
   "metadata": {},
   "outputs": [],
   "source": []
  },
  {
   "cell_type": "markdown",
   "metadata": {},
   "source": [
    "11. Print the polarity score of your summary you generated with the lemma scores (with an appropriate label). Additionally, print the number of sentences in the summarized article."
   ]
  },
  {
   "cell_type": "code",
   "execution_count": null,
   "metadata": {},
   "outputs": [],
   "source": []
  },
  {
   "cell_type": "markdown",
   "metadata": {},
   "source": [
    "12.  Compare your polarity scores of your summaries to the polarity scores of the initial article.  Is there a difference?  Why do you think that may or may not be?.  Answer in this Markdown cell.  "
   ]
  },
  {
   "cell_type": "markdown",
   "metadata": {},
   "source": [
    "13. Based on your reading of the original article, which summary do you think is better (if there's a difference).  Why do you think this might be?"
   ]
  }
 ],
 "metadata": {
  "kernelspec": {
   "display_name": "Python 3 (ipykernel)",
   "language": "python",
   "name": "python3"
  },
  "language_info": {
   "codemirror_mode": {
    "name": "ipython",
    "version": 3
   },
   "file_extension": ".py",
   "mimetype": "text/x-python",
   "name": "python",
   "nbconvert_exporter": "python",
   "pygments_lexer": "ipython3",
   "version": "3.11.9"
  }
 },
 "nbformat": 4,
 "nbformat_minor": 4
}
